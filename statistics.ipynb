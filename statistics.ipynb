{
 "cells": [
  {
   "cell_type": "raw",
   "id": "86ff6ffa-8efb-4216-a0d0-97637af57b73",
   "metadata": {},
   "source": [
    "#stastistic\n"
   ]
  },
  {
   "cell_type": "markdown",
   "id": "0f7b3d7b-3eaa-4137-bd01-094a98668ae9",
   "metadata": {},
   "source": [
    "Q1. What is Statistics?"
   ]
  },
  {
   "cell_type": "markdown",
   "id": "d2de6b26-e3c8-45c6-b5e4-24cf554cb564",
   "metadata": {},
   "source": [
    " Statistics is a branch of mathematics that involves collecting, analyzing, interpreting, presenting, and organizing data. It provides methods and techniques for making decisions and drawing conclusions based on data."
   ]
  },
  {
   "cell_type": "markdown",
   "id": "eb004635-e9c7-42c6-aa8d-caeb095f789b",
   "metadata": {},
   "source": [
    "Q2. Define the different types of statistics and give an example of when each type might be used."
   ]
  },
  {
   "cell_type": "markdown",
   "id": "94b089a0-d7a3-401b-8a05-73517464f4b8",
   "metadata": {},
   "source": [
    "Descriptive statistics: Descriptive statistics involves organizing, summarizing, and presenting data in a meaningful way. It includes measures of central tendency (e.g., mean, median, mode) and measures of variability (e.g., range, standard deviation). For example, descriptive statistics can be used to calculate the average age of students in a class.\n",
    "\n",
    "Inferential statistics: Inferential statistics involves making inferences or drawing conclusions about a population based on a sample. It uses probability theory and sampling techniques to generalize the findings from a sample to the entire population. For example, inferential statistics can be used to determine whether a new teaching method improves student performance based on data collected from a sample of students."
   ]
  },
  {
   "cell_type": "markdown",
   "id": "93aec177-c6df-42ba-9813-052441625847",
   "metadata": {},
   "source": [
    "Q3. What are the different types of data and how do they differ from each other? Provide an example of\n",
    "each type of data."
   ]
  },
  {
   "cell_type": "markdown",
   "id": "965aba21-0914-4575-9cb2-2f0b498f0444",
   "metadata": {},
   "source": [
    "Qualitative data: Qualitative data describes qualities or characteristics and is non-numerical in nature. It consists of categorical or nominal data and ordinal data. For example, the type of car a person owns (e.g., sedan, SUV, truck) is qualitative data.\n",
    "\n",
    "Quantitative data: Quantitative data represents quantities or numerical measurements. It consists of discrete data and continuous data. For example, the height of students in a class is quantitative data."
   ]
  },
  {
   "cell_type": "raw",
   "id": "69cb38eb-7bbf-4306-81d7-3510ca2e7944",
   "metadata": {},
   "source": [
    "Q4. Categorise the following datasets with respect to quantitative and qualitative data types:\n",
    "(i) Grading in exam: A+, A, B+, B, C+, C, D, E\n",
    "(ii) Colour of mangoes: yellow, green, orange, red\n",
    "(iii) Height data of a class: [178.9, 179, 179.5, 176, 177.2, 178.3, 175.8,...]\n",
    "(iv) Number of mangoes exported by a farm: [500, 600, 478, 672, ...]"
   ]
  },
  {
   "cell_type": "raw",
   "id": "9e1c07ff-d2f7-45c4-9dc8-1d0ec64d1add",
   "metadata": {},
   "source": [
    "(i) Grading in exam: This dataset represents qualitative data because it consists of categories or labels (A+, A, B+, B, C+, C, D, E).\n",
    "\n",
    "(ii) Colour of mangoes: This dataset represents qualitative data as it consists of different categories or labels (yellow, green, orange, red).\n",
    "\n",
    "(iii) Height data of a class: This dataset represents quantitative data as it consists of numerical measurements (continuous data) representing the heights of students.\n",
    "\n",
    "(iv) Number of mangoes exported by a farm: This dataset represents quantitative data as it consists of numerical measurements (discrete data) representing the counts of mangoes exported."
   ]
  },
  {
   "cell_type": "markdown",
   "id": "d78a6ee1-047a-46b0-9731-436b001184e2",
   "metadata": {},
   "source": [
    "Q5. Explain the concept of levels of measurement and give an example of a variable for each level."
   ]
  },
  {
   "cell_type": "markdown",
   "id": "69ebaeff-961d-4bda-90ce-7cee5b8b1380",
   "metadata": {},
   "source": [
    "Levels of measurement refer to the different scales or levels at which variables can be measured. The four levels of measurement are nominal, ordinal, interval, and ratio.\n",
    "\n",
    "Nominal level: Variables at the nominal level are categorical and have no inherent order or numerical meaning. They represent different categories or labels. An example of a nominal variable is the color of a car (e.g., red, blue, green).\n",
    "\n",
    "Ordinal level: Variables at the ordinal level have categories that can be ranked or ordered but do not have a consistent interval between them. They represent a relative order or position. An example of an ordinal variable is a survey response scale (e.g., strongly agree, agree, neutral, disagree, strongly disagree).\n",
    "\n",
    "Interval level: Variables at the interval level have ordered categories with a consistent interval between them. They have no true zero point. An example of an interval variable is temperature measured in Celsius or Fahrenheit.\n",
    "\n",
    "Ratio level: Variables at the ratio level have ordered categories with a consistent interval between them and a true zero point. They can be added, subtracted, multiplied, and divided. An example of a ratio variable is height, weight, or age."
   ]
  },
  {
   "cell_type": "markdown",
   "id": "75a00b29-8068-42a7-b9d2-919558900e42",
   "metadata": {},
   "source": [
    "Q6. Why is it important to understand the level of measurement when analyzing data? Provide an\n",
    "example to illustrate your answer."
   ]
  },
  {
   "cell_type": "raw",
   "id": "b69b7609-ff7b-4f71-9eae-cd87a92bd5af",
   "metadata": {},
   "source": [
    "Understanding the level of measurement is important when analyzing data because it determines the appropriate statistical analyses and operations that can be performed on the data\n",
    "For example, if you have data measured at the nominal level, you can only perform basic frequency counts and proportions. You cannot calculate means or perform most types of statistical tests that require numerical operations. On the other hand, if you have data measured at the ratio level, you can perform a wide range of statistical analyses, including calculating means, standard deviations, correlations, and conducting t-tests "
   ]
  },
  {
   "cell_type": "markdown",
   "id": "b4fe715b-c309-48b7-9bbd-92322b2256fa",
   "metadata": {},
   "source": [
    "Q7. How nominal data type is different from ordinal data type."
   ]
  },
  {
   "cell_type": "markdown",
   "id": "256568d6-bed9-4dc9-9acb-3dc9f701e21f",
   "metadata": {},
   "source": [
    "Nominal data and ordinal data differ in terms of the level of measurement and the nature of the categories.\n",
    "\n",
    "Nominal data: Nominal data is categorical and has no inherent order or numerical meaning. It represents different categories or labels. Examples of nominal data include gender (male, female) or eye color (blue, brown, green). In nominal data, the categories are mutually exclusive, and there is no concept of ordering or magnitude.\n",
    "\n",
    "Ordinal data: Ordinal data has categories that can be ranked or ordered, but the intervals between categories may not be equal. It represents a relative order or position. Examples of ordinal data include ratings (e.g., likert scale: strongly agree, agree, neutral, disagree, strongly disagree) or educational levels (e.g., high school, bachelor's degree, master's degree). In ordinal data, the categories have a natural ordering or ranking, but the differences between categories may not be uniform or quantifiable."
   ]
  },
  {
   "cell_type": "markdown",
   "id": "24504b46-3d9c-4647-ab59-073d20e9adb1",
   "metadata": {},
   "source": [
    "Q8. Which type of plot can be used to display data in terms of range?"
   ]
  },
  {
   "cell_type": "markdown",
   "id": "d7d51d0c-baed-4674-9615-07c6c2317913",
   "metadata": {},
   "source": [
    " A plot that can be used to display data in terms of range is a box plot or a box-and-whisker plot. A box plot visually represents the minimum, first quartile, median, third quartile, and maximum values of a dataset. The range of the data is depicted by the length of the box plot."
   ]
  },
  {
   "cell_type": "markdown",
   "id": "670df1ad-8476-413d-81dc-de30a77d6502",
   "metadata": {},
   "source": [
    "Q9. Describe the difference between descriptive and inferential statistics. Give an example of each\n",
    "type of statistics and explain how they are used."
   ]
  },
  {
   "cell_type": "markdown",
   "id": "f59558a8-31ae-417a-86aa-539bf2bdc21c",
   "metadata": {},
   "source": [
    "Descriptive statistics: Descriptive statistics involves organizing, summarizing, and presenting data in a meaningful way. It focuses on describing the main features of a dataset, such as central tendency and variability."
   ]
  },
  {
   "cell_type": "markdown",
   "id": "c524cea1-68ed-46d9-8a26-5020be449c12",
   "metadata": {},
   "source": [
    "Inferential statistics: Inferential statistics involves making inferences or drawing conclusions about a population based on a sample. It uses probability theory and sampling techniques to generalize findings from a sample to the entire population. Inferential statistics help in making predictions, testing hypotheses, and determining the significance of relationships or differences"
   ]
  },
  {
   "cell_type": "markdown",
   "id": "88dca78e-6ae5-41ce-902c-a4e52016f81a",
   "metadata": {},
   "source": [
    "Q10. What are some common measures of central tendency and variability used in statistics? Explain\n",
    "how each measure can be used to describe a dataset."
   ]
  },
  {
   "cell_type": "markdown",
   "id": "b2877520-1d21-4b43-897e-f179d46c90ad",
   "metadata": {},
   "source": [
    "Measures of central tendency provide information about the center or typical value of a dataset. The three main measures of central tendency are the mean, median, and mode."
   ]
  },
  {
   "cell_type": "raw",
   "id": "5083aa1d-5d6e-4960-9b60-fa3ae7d294f0",
   "metadata": {},
   "source": [
    "Mean: The mean is the sum of all values divided by the number of values. It represents the average value and is sensitive to extreme values.\n",
    "\n",
    "Median: The median is the middle value in a sorted dataset. It represents the value that separates the dataset into two equal halves and is not affected by extreme values.\n",
    "\n",
    "Mode: The mode is the most frequent value or values in a dataset. It represents the value(s) that occur with the highest frequency."
   ]
  },
  {
   "cell_type": "code",
   "execution_count": null,
   "id": "454a2317-1189-4a14-a90d-142f25a0d05e",
   "metadata": {},
   "outputs": [],
   "source": []
  }
 ],
 "metadata": {
  "kernelspec": {
   "display_name": "Python 3 (ipykernel)",
   "language": "python",
   "name": "python3"
  },
  "language_info": {
   "codemirror_mode": {
    "name": "ipython",
    "version": 3
   },
   "file_extension": ".py",
   "mimetype": "text/x-python",
   "name": "python",
   "nbconvert_exporter": "python",
   "pygments_lexer": "ipython3",
   "version": "3.10.8"
  }
 },
 "nbformat": 4,
 "nbformat_minor": 5
}
